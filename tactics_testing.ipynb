{
 "cells": [
  {
   "cell_type": "code",
   "execution_count": 1,
   "source": [
    "import chess\r\n",
    "from board_conversion import *"
   ],
   "outputs": [],
   "metadata": {}
  },
  {
   "cell_type": "code",
   "execution_count": 35,
   "source": [
    "def material_counter(board):\r\n",
    "    material = np.array([0,0])\r\n",
    "    translated_board = board_matrix(board)\r\n",
    "    for piece in translated_board:\r\n",
    "        material += value_dict[piece]\r\n",
    "    return material"
   ],
   "outputs": [],
   "metadata": {}
  },
  {
   "cell_type": "code",
   "execution_count": 178,
   "source": [
    "def pos_cont(board):\r\n",
    "    boards = []\r\n",
    "    legal_moves = list(board.legal_moves)\r\n",
    "    for move in legal_moves:\r\n",
    "        copy_board = board.copy()\r\n",
    "        copy_board.push(move)\r\n",
    "        boards.append(copy_board)\r\n",
    "    return boards,legal_moves"
   ],
   "outputs": [],
   "metadata": {}
  },
  {
   "cell_type": "code",
   "execution_count": 179,
   "source": [
    "class Node:\r\n",
    "    def __init__(self,board,move,parent):\r\n",
    "        self.board = board\r\n",
    "        self.move = move\r\n",
    "        self.parent_node = parent\r\n",
    "        self.child_nodes = []\r\n",
    "        self.utility = 0\r\n",
    "        self.func = None\r\n",
    "    def evaluate(self,idx):\r\n",
    "        if len(self.child_nodes) == 0:\r\n",
    "            self.utility = material_counter(self.board)\r\n",
    "        else:\r\n",
    "            child_util = [child_node.utility[idx] for child_node in self.child_nodes]\r\n",
    "            self.utility = self.func(child_util)\r\n",
    "    def extend(self):\r\n",
    "        continuations,legal_moves = pos_cont(self.board)\r\n",
    "        for i in range(len(continuations)):\r\n",
    "            self.child_nodes.append(Node(continuations[i],legal_moves[i],self))"
   ],
   "outputs": [],
   "metadata": {}
  },
  {
   "cell_type": "code",
   "execution_count": 205,
   "source": [
    "class MinMaxTree():\r\n",
    "    def __init__(self,board):\r\n",
    "        root_node = Node(board,None,None)\r\n",
    "        self.root_node = root_node\r\n",
    "\r\n",
    "    def construct(self,depth = 2):   \r\n",
    "        nodes = []\r\n",
    "        prev_gen = [self.root_node]\r\n",
    "        \r\n",
    "        for i in range(depth):\r\n",
    "            new_gen = []\r\n",
    "            for parent_node in prev_gen:\r\n",
    "                parent_node.extend()\r\n",
    "                new_gen.extend(parent_node.child_nodes)\r\n",
    "            prev_gen = new_gen\r\n",
    "            nodes.append(prev_gen)\r\n",
    "            \r\n",
    "        self.nodes = nodes\r\n",
    "        self.function_list = np.array([[] + [max,min] for _ in range(depth//2)]).flatten()\r\n",
    "        \r\n",
    "\r\n",
    "        return self.root_node\r\n",
    "    \r\n",
    "    def evaluate(self,side):\r\n",
    "        if side == 'White':\r\n",
    "            idx = 0\r\n",
    "        elif side == 'Black':\r\n",
    "            idx = 1\r\n",
    "            \r\n",
    "        for i in range(len(self.nodes)-1,-1,-1):\r\n",
    "            for node in self.nodes[i]:\r\n",
    "                node.func = self.function_list[i]\r\n",
    "                node.evaluate(idx)\r\n",
    "                \r\n",
    "    def predict(self):\r\n",
    "        pred_list = sorted(self.nodes[0], key=lambda x: x.utility)\r\n",
    "        return pred_list[0].move"
   ],
   "outputs": [],
   "metadata": {}
  },
  {
   "cell_type": "code",
   "execution_count": 206,
   "source": [
    "import chess\r\n",
    "tree = MinMaxTree(chess.Board())\r\n",
    "root = tree.construct()\r\n",
    "tree.evaluate('White')\r\n",
    "tree.predict()\r\n"
   ],
   "outputs": [
    {
     "output_type": "execute_result",
     "data": {
      "text/plain": [
       "Move.from_uci('g1h3')"
      ]
     },
     "metadata": {},
     "execution_count": 206
    }
   ],
   "metadata": {}
  }
 ],
 "metadata": {
  "orig_nbformat": 4,
  "language_info": {
   "name": "python",
   "version": "3.8.3",
   "mimetype": "text/x-python",
   "codemirror_mode": {
    "name": "ipython",
    "version": 3
   },
   "pygments_lexer": "ipython3",
   "nbconvert_exporter": "python",
   "file_extension": ".py"
  },
  "kernelspec": {
   "name": "python3",
   "display_name": "Python 3.8.3 64-bit ('base': conda)"
  },
  "interpreter": {
   "hash": "5d591f94785818b435df4881258bbd57da528693019fb2c63deaaf29b9986dd3"
  }
 },
 "nbformat": 4,
 "nbformat_minor": 2
}